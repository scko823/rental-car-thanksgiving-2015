{
 "cells": [
  {
   "cell_type": "code",
   "execution_count": 69,
   "metadata": {
    "collapsed": true
   },
   "outputs": [],
   "source": [
    "from selenium import webdriver\n",
    "import urllib\n",
    "import pandas as pd\n",
    "from bs4 import BeautifulSoup\n",
    "from selenium.webdriver.common.keys import Keys\n",
    "import time as time\n",
    "import datetime as dt\n",
    "from lxml import html\n",
    "# import dependencies"
   ]
  },
  {
   "cell_type": "code",
   "execution_count": 70,
   "metadata": {
    "collapsed": false
   },
   "outputs": [],
   "source": [
    "#use selenium to key in the rental car parameters\n",
    "browser = webdriver.Firefox() #I only tested in firefox\n",
    "browser.get('http://costcotravel.com/Rental-Cars')\n",
    "browser.implicitly_wait(5)#wait for webpage download\n",
    "browser.find_element_by_xpath('//div/input[@id=\"pickupAirportTextWidget\"]').send_keys('PHX')\n",
    "browser.implicitly_wait(5) #wait for the airport suggestion box to show\n",
    "browser.find_element_by_xpath('//li[@class=\"sayt-result\"]').click() \n",
    "#click the  airport suggestion box \n",
    "\n",
    "browser.find_element_by_xpath('//input[@id=\"pickupDateWidget\"]').send_keys('08/27/2015')\n",
    "browser.find_element_by_xpath('//input[@id=\"dropoffDateWidget\"]').send_keys('08/30/2015',Keys.RETURN)\n",
    "\n",
    "browser.find_element_by_xpath('//select[@id=\"pickupTimeWidget\"]/option[@value=\"09:00 AM\"]').click()\n",
    "browser.find_element_by_xpath('//select[@id=\"dropoffTimeWidget\"]/option[@value=\"05:00 PM\"]').click()\n",
    "browser.implicitly_wait(5) #wait for the clicks to be completed\n",
    "browser.find_element_by_link_text('SEARCH').click()\n",
    "#click the search box\n",
    "\n",
    "time.sleep(8) #wait for firefox to download and render the page\n",
    "n = browser.page_source #grab the html source code"
   ]
  },
  {
   "cell_type": "code",
   "execution_count": 71,
   "metadata": {
    "collapsed": true
   },
   "outputs": [],
   "source": [
    "tree = html.document_fromstring(n) #create lxml object"
   ]
  },
  {
   "cell_type": "code",
   "execution_count": 72,
   "metadata": {
    "collapsed": false
   },
   "outputs": [],
   "source": [
    "class_name = tree.xpath('//tbody/tr/th[@class=\"tar\"]') #get the car class names"
   ]
  },
  {
   "cell_type": "code",
   "execution_count": 73,
   "metadata": {
    "collapsed": false
   },
   "outputs": [],
   "source": [
    "dict_key = [i.text for i in class_name] #put all car class name to a list"
   ]
  },
  {
   "cell_type": "code",
   "execution_count": 74,
   "metadata": {
    "collapsed": true
   },
   "outputs": [],
   "source": [
    "price = tree.xpath('//td/div[@class=\"carCell\"]/a[@class=\"u linkredU\"]')\n",
    "#we only need to grab the prices in red, which is the cheapest across a row aka the car class\n",
    "#pd.DataFrame.min(axis = 1)"
   ]
  },
  {
   "cell_type": "code",
   "execution_count": 75,
   "metadata": {
    "collapsed": false
   },
   "outputs": [],
   "source": [
    "dict_value = [int(i.text.replace('$','').replace(',','')) for i in price]\n",
    "#put the red prices in a list\n"
   ]
  },
  {
   "cell_type": "markdown",
   "metadata": {},
   "source": [
    "There will be a few car classes that won't have a red price, because there is only one rental company available for that class.\n",
    "We need to clean up the dict_key list to remove any of those."
   ]
  },
  {
   "cell_type": "code",
   "execution_count": 76,
   "metadata": {
    "collapsed": false
   },
   "outputs": [
    {
     "name": "stdout",
     "output_type": "stream",
     "text": [
      "['Economy Car', 'Compact Car', 'Standard Car', 'Fullsize Car', 'Premium Car', 'Intermediate SUV', 'Standard SUV', 'Mini Van', 'Fullsize SUV', 'Standard Convertible', 'Premium SUV', 'Fullsize Van', 'Intermediate Car']\n",
      "[67, 72, 80, 90, 142, 152, 218, 269, 318, 351, 541, 394, 80.39]\n"
     ]
    }
   ],
   "source": [
    "soup = BeautifulSoup(n)# use bs\n",
    "unavil_car = soup.findAll('td',{'class':' carNotAvailableClass'})\n",
    "un_car_list = [str(i.findParent().findChild('th',{\"class\":'tar'}).text) for i in unavil_car]\n",
    "#this to grab all car class that have at least 1 \"Not Available\" car price\n",
    "un_car_dict = {} #empty dict to put the info of car class and \"Not Available\" in that class\n",
    "for i in range(len(un_car_list)):\n",
    "    if un_car_list[i] not in un_car_dict: \n",
    "        #new class that the dict doesn't have, will give value of 1 to show 1 \"Not Available\"\n",
    "        un_car_dict[un_car_list[i]] =1\n",
    "    else:\n",
    "        un_car_dict[un_car_list[i]] +=1\n",
    "        \n",
    "        \n",
    "for i in un_car_dict:\n",
    "    if un_car_dict[i]==3: \n",
    "        #if there are three \"Not Available\" in that car class,there will be no red price\n",
    "        del dict_key[dict_key.index(i)]\n",
    "        \n",
    "#then we need to grab the price and car class of the costco suggested page  \n",
    "highlighted_price = float(tree.xpath('//span[@class=\"tc09\"]')[0].text.replace('$','').replace(',',''))\n",
    "\n",
    "highlighted_car_class = str(soup.find(\"th\",{\"class\":'tar selectedBottomBorder'}).text)\n",
    "#append the car class name and car price to the lists\n",
    "dict_key.append(highlighted_car_class)\n",
    "dict_value.append(highlighted_price)\n",
    "print dict_key\n",
    "print dict_value"
   ]
  },
  {
   "cell_type": "code",
   "execution_count": 77,
   "metadata": {
    "collapsed": false
   },
   "outputs": [],
   "source": [
    "#create a masterlist that will contains all the dicts we generate to put into pandas\n",
    "masterlist=[]\n",
    "for i in dict_key:\n",
    "    masterlist.append({i:dict_value.pop(0)})"
   ]
  },
  {
   "cell_type": "code",
   "execution_count": 78,
   "metadata": {
    "collapsed": false
   },
   "outputs": [],
   "source": [
    "# compose the message to email myself\n",
    "message='Here are some rental car listing that is cheap \\n'\n",
    "for i in masterlist:\n",
    "    for (k,v) in i.items():\n",
    "        if v<=80:\n",
    "            message += k + ' '+ str(v)+ \"\\n\"\n"
   ]
  },
  {
   "cell_type": "code",
   "execution_count": 79,
   "metadata": {
    "collapsed": true
   },
   "outputs": [],
   "source": [
    "test = pd.DataFrame.from_dict(masterlist)\n",
    "#this generated a DataFrame that is kind of messy"
   ]
  },
  {
   "cell_type": "code",
   "execution_count": 80,
   "metadata": {
    "collapsed": false
   },
   "outputs": [],
   "source": [
    "test = test.mean(dropna=True)\n",
    "test = test.order()"
   ]
  },
  {
   "cell_type": "code",
   "execution_count": 81,
   "metadata": {
    "collapsed": false,
    "scrolled": true
   },
   "outputs": [],
   "source": [
    "test = test.to_frame(\"update @ %s\" %dt.datetime.now().strftime(\"%m-%d %H:%S %p\"))"
   ]
  },
  {
   "cell_type": "code",
   "execution_count": 82,
   "metadata": {
    "collapsed": false
   },
   "outputs": [],
   "source": [
    "test.to_csv('data/%s.csv'%dt.datetime.now().strftime(\"%m-%d %H-%S %p\") )"
   ]
  },
  {
   "cell_type": "code",
   "execution_count": 83,
   "metadata": {
    "collapsed": false
   },
   "outputs": [],
   "source": [
    "masterdf = pd.read_csv('data/master.csv', index_col=0)\n",
    "masterdf = pd.concat([masterdf, test],axis = 1)\n",
    "masterdf.to_csv('data/master.csv')"
   ]
  },
  {
   "cell_type": "code",
   "execution_count": null,
   "metadata": {
    "collapsed": true
   },
   "outputs": [],
   "source": []
  }
 ],
 "metadata": {
  "kernelspec": {
   "display_name": "Python 2",
   "language": "python",
   "name": "python2"
  },
  "language_info": {
   "codemirror_mode": {
    "name": "ipython",
    "version": 2
   },
   "file_extension": ".py",
   "mimetype": "text/x-python",
   "name": "python",
   "nbconvert_exporter": "python",
   "pygments_lexer": "ipython2",
   "version": "2.7.6"
  }
 },
 "nbformat": 4,
 "nbformat_minor": 0
}
