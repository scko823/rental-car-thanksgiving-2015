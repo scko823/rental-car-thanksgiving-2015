{
 "cells": [
  {
   "cell_type": "code",
   "execution_count": 1,
   "metadata": {
    "collapsed": true
   },
   "outputs": [],
   "source": [
    "from selenium import webdriver\n",
    "import urllib\n",
    "import pandas as pd\n",
    "from bs4 import BeautifulSoup\n",
    "from selenium.webdriver.common.keys import Keys\n",
    "import time as time\n",
    "import datetime as dt\n",
    "from lxml import html\n",
    "# import dependencies"
   ]
  },
  {
   "cell_type": "code",
   "execution_count": 2,
   "metadata": {
    "collapsed": false
   },
   "outputs": [],
   "source": [
    "#use selenium to key in the rental car parameters\n",
    "browser = webdriver.Firefox() #I only tested in firefox\n",
    "browser.get('http://costcotravel.com/Rental-Cars')\n",
    "browser.implicitly_wait(5)#wait for webpage download\n",
    "browser.find_element_by_xpath('//div/input[@id=\"pickupAirportTextWidget\"]').send_keys('PHX')\n",
    "browser.implicitly_wait(5) #wait for the airport suggestion box to show\n",
    "browser.find_element_by_xpath('//li[@class=\"sayt-result\"]').click() \n",
    "#click the  airport suggestion box \n",
    "\n",
    "browser.find_element_by_xpath('//input[@id=\"pickupDateWidget\"]').send_keys('11/21/2015')\n",
    "browser.find_element_by_xpath('//input[@id=\"dropoffDateWidget\"]').send_keys('11/29/2015',Keys.RETURN)\n",
    "\n",
    "browser.find_element_by_xpath('//select[@id=\"pickupTimeWidget\"]/option[@value=\"11:00 AM\"]').click()\n",
    "browser.find_element_by_xpath('//select[@id=\"dropoffTimeWidget\"]/option[@value=\"05:00 PM\"]').click()\n",
    "browser.implicitly_wait(5) #wait for the clicks to be completed\n",
    "browser.find_element_by_link_text('SEARCH').click()\n",
    "#click the search box\n",
    "\n",
    "time.sleep(8) #wait for firefox to download and render the page\n",
    "n = browser.page_source #grab the html source code"
   ]
  },
  {
   "cell_type": "markdown",
   "metadata": {
    "collapsed": true
   },
   "source": [
    "tree = html.document_fromstring(n) #create lxml object"
   ]
  },
  {
   "cell_type": "markdown",
   "metadata": {
    "collapsed": false
   },
   "source": [
    "class_name = tree.xpath('//tbody/tr/th[@class=\"tar\"]') #get the car class names"
   ]
  },
  {
   "cell_type": "markdown",
   "metadata": {
    "collapsed": false
   },
   "source": [
    "dict_key = [i.text for i in class_name] #put all car class name to a list"
   ]
  },
  {
   "cell_type": "code",
   "execution_count": null,
   "metadata": {
    "collapsed": true
   },
   "outputs": [],
   "source": []
  },
  {
   "cell_type": "code",
   "execution_count": 14,
   "metadata": {
    "collapsed": true
   },
   "outputs": [],
   "source": [
    "soup = BeautifulSoup(n)"
   ]
  },
  {
   "cell_type": "code",
   "execution_count": 74,
   "metadata": {
    "collapsed": false,
    "scrolled": true
   },
   "outputs": [
    {
     "data": {
      "text/plain": [
       "[['Economy Car', '283', '462', '617', '299'],\n",
       " ['Compact Car', '283', '423', '447', '299'],\n",
       " ['Intermediate Car', '282.96', '443', '418', '299'],\n",
       " ['Standard Car', '312', '482', '456', '326'],\n",
       " ['Fullsize Car', '312', '482', '456', '326'],\n",
       " ['Premium Car', '271', '1084', '490', '264'],\n",
       " ['Intermediate SUV', '245', '1096', '523', '264'],\n",
       " ['Standard SUV', '409', '1179', '663', '415'],\n",
       " ['Fullsize Crossover', '626', 'NA', 'NA', '616'],\n",
       " ['Premium Crossover', 'NA', 'NA', 'NA', '591'],\n",
       " ['Mini Van', '476', '1603', '490', '477'],\n",
       " ['Standard Van', '727', 'NA', 'NA', 'NA'],\n",
       " ['Fullsize SUV', '598', '1553', '685', '591'],\n",
       " ['Standard Convertible', '387', '1120', '418', '396'],\n",
       " ['Standard Specialty', '362', 'NA', 'NA', '372'],\n",
       " ['Luxury Car', 'NA', '1120', '1066', 'NA'],\n",
       " ['Premium SUV', '788', '1824', '891', '765'],\n",
       " ['Luxury SUV', '992', 'NA', 'NA', '953'],\n",
       " ['Fullsize Van', '1097', '1223', '1124', '1050']]"
      ]
     },
     "execution_count": 74,
     "metadata": {},
     "output_type": "execute_result"
    }
   ],
   "source": [
    "all_tags = [i for i in soup.findAll('th',{\"class\":\"tar\"}) if i.text.startswith('Tax')==False]\n",
    "masterlist = []\n",
    "all_tags[0].findParent().text\n",
    "for i in range(len(all_tags)):\n",
    "    masterlist.append(str(all_tags[i].findParent().text).replace('Not Available','$NA').replace(',','').split('$'))\n",
    "\n",
    "masterlist\n"
   ]
  },
  {
   "cell_type": "code",
   "execution_count": 77,
   "metadata": {
    "collapsed": false
   },
   "outputs": [
    {
     "data": {
      "text/html": [
       "<div style=\"max-height:1000px;max-width:1500px;overflow:auto;\">\n",
       "<table border=\"1\" class=\"dataframe\">\n",
       "  <thead>\n",
       "    <tr style=\"text-align: right;\">\n",
       "      <th></th>\n",
       "      <th>0</th>\n",
       "      <th>1</th>\n",
       "      <th>2</th>\n",
       "      <th>3</th>\n",
       "      <th>4</th>\n",
       "    </tr>\n",
       "  </thead>\n",
       "  <tbody>\n",
       "    <tr>\n",
       "      <th>0</th>\n",
       "      <td>Economy Car</td>\n",
       "      <td>283</td>\n",
       "      <td>462</td>\n",
       "      <td>617</td>\n",
       "      <td>299</td>\n",
       "    </tr>\n",
       "    <tr>\n",
       "      <th>1</th>\n",
       "      <td>Compact Car</td>\n",
       "      <td>283</td>\n",
       "      <td>423</td>\n",
       "      <td>447</td>\n",
       "      <td>299</td>\n",
       "    </tr>\n",
       "    <tr>\n",
       "      <th>2</th>\n",
       "      <td>Intermediate Car</td>\n",
       "      <td>282.96</td>\n",
       "      <td>443</td>\n",
       "      <td>418</td>\n",
       "      <td>299</td>\n",
       "    </tr>\n",
       "    <tr>\n",
       "      <th>3</th>\n",
       "      <td>Standard Car</td>\n",
       "      <td>312</td>\n",
       "      <td>482</td>\n",
       "      <td>456</td>\n",
       "      <td>326</td>\n",
       "    </tr>\n",
       "    <tr>\n",
       "      <th>4</th>\n",
       "      <td>Fullsize Car</td>\n",
       "      <td>312</td>\n",
       "      <td>482</td>\n",
       "      <td>456</td>\n",
       "      <td>326</td>\n",
       "    </tr>\n",
       "    <tr>\n",
       "      <th>5</th>\n",
       "      <td>Premium Car</td>\n",
       "      <td>271</td>\n",
       "      <td>1084</td>\n",
       "      <td>490</td>\n",
       "      <td>264</td>\n",
       "    </tr>\n",
       "    <tr>\n",
       "      <th>6</th>\n",
       "      <td>Intermediate SUV</td>\n",
       "      <td>245</td>\n",
       "      <td>1096</td>\n",
       "      <td>523</td>\n",
       "      <td>264</td>\n",
       "    </tr>\n",
       "    <tr>\n",
       "      <th>7</th>\n",
       "      <td>Standard SUV</td>\n",
       "      <td>409</td>\n",
       "      <td>1179</td>\n",
       "      <td>663</td>\n",
       "      <td>415</td>\n",
       "    </tr>\n",
       "    <tr>\n",
       "      <th>8</th>\n",
       "      <td>Fullsize Crossover</td>\n",
       "      <td>626</td>\n",
       "      <td>NA</td>\n",
       "      <td>NA</td>\n",
       "      <td>616</td>\n",
       "    </tr>\n",
       "    <tr>\n",
       "      <th>9</th>\n",
       "      <td>Premium Crossover</td>\n",
       "      <td>NA</td>\n",
       "      <td>NA</td>\n",
       "      <td>NA</td>\n",
       "      <td>591</td>\n",
       "    </tr>\n",
       "    <tr>\n",
       "      <th>10</th>\n",
       "      <td>Mini Van</td>\n",
       "      <td>476</td>\n",
       "      <td>1603</td>\n",
       "      <td>490</td>\n",
       "      <td>477</td>\n",
       "    </tr>\n",
       "    <tr>\n",
       "      <th>11</th>\n",
       "      <td>Standard Van</td>\n",
       "      <td>727</td>\n",
       "      <td>NA</td>\n",
       "      <td>NA</td>\n",
       "      <td>NA</td>\n",
       "    </tr>\n",
       "    <tr>\n",
       "      <th>12</th>\n",
       "      <td>Fullsize SUV</td>\n",
       "      <td>598</td>\n",
       "      <td>1553</td>\n",
       "      <td>685</td>\n",
       "      <td>591</td>\n",
       "    </tr>\n",
       "    <tr>\n",
       "      <th>13</th>\n",
       "      <td>Standard Convertible</td>\n",
       "      <td>387</td>\n",
       "      <td>1120</td>\n",
       "      <td>418</td>\n",
       "      <td>396</td>\n",
       "    </tr>\n",
       "    <tr>\n",
       "      <th>14</th>\n",
       "      <td>Standard Specialty</td>\n",
       "      <td>362</td>\n",
       "      <td>NA</td>\n",
       "      <td>NA</td>\n",
       "      <td>372</td>\n",
       "    </tr>\n",
       "    <tr>\n",
       "      <th>15</th>\n",
       "      <td>Luxury Car</td>\n",
       "      <td>NA</td>\n",
       "      <td>1120</td>\n",
       "      <td>1066</td>\n",
       "      <td>NA</td>\n",
       "    </tr>\n",
       "    <tr>\n",
       "      <th>16</th>\n",
       "      <td>Premium SUV</td>\n",
       "      <td>788</td>\n",
       "      <td>1824</td>\n",
       "      <td>891</td>\n",
       "      <td>765</td>\n",
       "    </tr>\n",
       "    <tr>\n",
       "      <th>17</th>\n",
       "      <td>Luxury SUV</td>\n",
       "      <td>992</td>\n",
       "      <td>NA</td>\n",
       "      <td>NA</td>\n",
       "      <td>953</td>\n",
       "    </tr>\n",
       "    <tr>\n",
       "      <th>18</th>\n",
       "      <td>Fullsize Van</td>\n",
       "      <td>1097</td>\n",
       "      <td>1223</td>\n",
       "      <td>1124</td>\n",
       "      <td>1050</td>\n",
       "    </tr>\n",
       "  </tbody>\n",
       "</table>\n",
       "</div>"
      ],
      "text/plain": [
       "                       0       1     2     3     4\n",
       "0            Economy Car     283   462   617   299\n",
       "1            Compact Car     283   423   447   299\n",
       "2       Intermediate Car  282.96   443   418   299\n",
       "3           Standard Car     312   482   456   326\n",
       "4           Fullsize Car     312   482   456   326\n",
       "5            Premium Car     271  1084   490   264\n",
       "6       Intermediate SUV     245  1096   523   264\n",
       "7           Standard SUV     409  1179   663   415\n",
       "8     Fullsize Crossover     626    NA    NA   616\n",
       "9      Premium Crossover      NA    NA    NA   591\n",
       "10              Mini Van     476  1603   490   477\n",
       "11          Standard Van     727    NA    NA    NA\n",
       "12          Fullsize SUV     598  1553   685   591\n",
       "13  Standard Convertible     387  1120   418   396\n",
       "14    Standard Specialty     362    NA    NA   372\n",
       "15            Luxury Car      NA  1120  1066    NA\n",
       "16           Premium SUV     788  1824   891   765\n",
       "17            Luxury SUV     992    NA    NA   953\n",
       "18          Fullsize Van    1097  1223  1124  1050"
      ]
     },
     "execution_count": 77,
     "metadata": {},
     "output_type": "execute_result"
    }
   ],
   "source": [
    "\n",
    "\n",
    "pd.DataFrame(masterlist)"
   ]
  },
  {
   "cell_type": "markdown",
   "metadata": {
    "collapsed": false
   },
   "source": [
    "#create a masterlist that will contains all the dicts we generate to put into pandas\n",
    "masterlist=[]\n",
    "for i in dict_key:\n",
    "    masterlist.append({i:dict_value.pop(0)})"
   ]
  },
  {
   "cell_type": "markdown",
   "metadata": {
    "collapsed": true
   },
   "source": [
    "test = pd.DataFrame.from_dict(masterlist)\n",
    "#this generated a DataFrame that is kind of messy"
   ]
  },
  {
   "cell_type": "markdown",
   "metadata": {
    "collapsed": false
   },
   "source": [
    "test = test.mean(dropna=True)\n",
    "test = test.order()"
   ]
  },
  {
   "cell_type": "markdown",
   "metadata": {
    "collapsed": false,
    "scrolled": true
   },
   "source": [
    "test = test.to_frame(\"update @ %s\" %dt.datetime.now().strftime(\"%m-%d %H:%S %p\"))"
   ]
  },
  {
   "cell_type": "markdown",
   "metadata": {
    "collapsed": false
   },
   "source": [
    "test.to_csv('data/%s.csv'%dt.datetime.now().strftime(\"%m-%d %H-%S %p\") )"
   ]
  },
  {
   "cell_type": "markdown",
   "metadata": {
    "collapsed": false
   },
   "source": [
    "masterdf = pd.read_csv('data/master.csv', index_col=0)\n",
    "masterdf = pd.concat([masterdf, test],axis = 1)\n",
    "masterdf.to_csv('data/master.csv')"
   ]
  },
  {
   "cell_type": "code",
   "execution_count": null,
   "metadata": {
    "collapsed": true
   },
   "outputs": [],
   "source": []
  }
 ],
 "metadata": {
  "kernelspec": {
   "display_name": "Python 2",
   "language": "python",
   "name": "python2"
  },
  "language_info": {
   "codemirror_mode": {
    "name": "ipython",
    "version": 2
   },
   "file_extension": ".py",
   "mimetype": "text/x-python",
   "name": "python",
   "nbconvert_exporter": "python",
   "pygments_lexer": "ipython2",
   "version": "2.7.6"
  }
 },
 "nbformat": 4,
 "nbformat_minor": 0
}
